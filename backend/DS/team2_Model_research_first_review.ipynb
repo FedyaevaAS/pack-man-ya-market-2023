{
 "cells": [
  {
   "cell_type": "markdown",
   "metadata": {},
   "source": [
    "<div style=\"border:solid green 2px; padding: 20px\">\n",
    "    \n",
    "<b>Привет Команда!</b>\n",
    "\n",
    "Меня зовут Владислав Струнин и я буду проводить ревью вашего проекта. Моя основная цель — поделиться своим опытом и помочь вам стать отличными специалистами по Data Science. Вами проделана огромная работа над проектом и я предлагаю сделать его еще лучше. Ниже вы найдете мои комментарии - **пожалуйста, не перемещате, не изменяте и не удаляйте их**. Увидев у вас ошибку, я лишь укажу на ее наличие и дам вам возможность самостоятельно найти и исправить ее. <br>\n",
    "    \n",
    "Мои комментарии будут выглядеть так:<br>\n",
    "<div class=\"alert alert-block alert-success\">\n",
    "<b>✅«Отлично»:</b> Так я выделяю верные действия, когда все сделано правильно.\n",
    "</div>\n",
    "\n",
    "<div class=\"alert alert-warning\" role=\"alert\">\n",
    "<b>⚠️«Можно лучше»: </b> Так выделены небольшие замечания или предложения по улучшению. Я надеюсь, что их вы тоже учтете - проект от этого станет только лучше.\n",
    "</div>\n",
    "\n",
    "<div class=\"alert alert-block alert-danger\">\n",
    "<b>⛔️«Надо исправить»:</b> Если требуются исправления. Работа не может быть принята с красными комментариями.\n",
    "</div>\n",
    "\n",
    "После получения ревью работы постарайтесь внести изменения в исследование в соответствии с моими комментариями. Это позволит сделать вашу работу еще лучше!"
   ]
  },
  {
   "cell_type": "code",
   "execution_count": 2,
   "metadata": {},
   "outputs": [],
   "source": [
    "import pandas as pd\n",
    "import numpy as np\n",
    "from scipy import sparse\n",
    "from matplotlib import pyplot as plt\n",
    "from skimpy import clean_columns\n",
    "from sklearn.feature_extraction.text import TfidfVectorizer\n",
    "from sklearn.model_selection import train_test_split, RandomizedSearchCV\n",
    "from catboost import CatBoostClassifier\n",
    "from sklearn.metrics import f1_score\n",
    "from sklearn.neighbors import KNeighborsClassifier\n",
    "from sklearn.linear_model import SGDClassifier\n",
    "\n",
    "from sklearn.pipeline import Pipeline, FeatureUnion, FunctionTransformer\n",
    "from sklearn.compose import ColumnTransformer\n",
    "from imblearn.pipeline import make_pipeline\n",
    "from imblearn import FunctionSampler\n",
    "\n",
    "import pickle\n",
    "\n",
    "import copy\n",
    "\n",
    "pd.set_option('display.max_columns', None)"
   ]
  },
  {
   "cell_type": "markdown",
   "metadata": {},
   "source": [
    "\n",
    "<div class=\"alert alert-success\">\n",
    "<b>✅«Отлично»:</b><br>\n",
    "    Хорошо - все импорты собраны в начале тетрадки 👍 Модули, которые относятся к разным фреймворкам можно сгруппировать и разделить пробелом для улучшения восприятия кода.\n",
    "    \n",
    "Еще больше интересного есть в руководстве по стилю Python – можно почитать здесь: [PEP 8 – Style Guide for Python Code](https://peps.python.org/pep-0008/)\n",
    "</div>\n"
   ]
  },
  {
   "cell_type": "code",
   "execution_count": 3,
   "metadata": {},
   "outputs": [],
   "source": [
    "# загружаем данные\n",
    "cargotype_info = pd.read_csv('/home/ivan/projects/Hakaton_Yandex_marketplace/datasets_examples/cargotype_info.csv', index_col=0)\n",
    "carton_price = pd.read_excel('/home/ivan/projects/Hakaton_Yandex_marketplace/datasets_examples/carton_price.xlsx', names=['cartontype', 'price'])\n",
    "carton = pd.read_csv('/home/ivan/projects/Hakaton_Yandex_marketplace/datasets_examples/carton.csv')\n",
    "data = pd.read_csv('/home/ivan/projects/Hakaton_Yandex_marketplace/datasets_examples/data.csv', index_col=0)\n",
    "sku_cargotypes = pd.read_csv('/home/ivan/projects/Hakaton_Yandex_marketplace/datasets_examples/sku_cargotypes.csv', index_col=0)\n",
    "sku = pd.read_csv('/home/ivan/projects/Hakaton_Yandex_marketplace/datasets_examples/sku.csv', index_col=0)"
   ]
  },
  {
   "cell_type": "markdown",
   "metadata": {},
   "source": [
    "\n",
    "<div class=\"alert alert-success\">\n",
    "<b>✅«Отлично»:</b><br>\n",
    "    Данные на месте - супер 👍<br>\n",
    "    Хорошей практикой также является также указывать относительный путь и/или выносить в отдельную переменную (например, DATA_DIR) путь к файлам и тогда, человек, который скопирует ваш проект просто поменяет путь и сможет работать.\n",
    "</div>\n"
   ]
  },
  {
   "cell_type": "markdown",
   "metadata": {},
   "source": [
    "## Предобработка данных"
   ]
  },
  {
   "cell_type": "markdown",
   "metadata": {},
   "source": [
    "### Сбор единой витрины datamart"
   ]
  },
  {
   "cell_type": "code",
   "execution_count": 4,
   "metadata": {},
   "outputs": [],
   "source": [
    "# инициализируем datamart\n",
    "# удаляем ненужные столбцы\n",
    "datamart = data.drop(['selected_carton', 'recommended_carton', 'whs', 'who', 'trackingid', 'box_num'], axis=1)\n",
    "# считаем количество товаров одного типа для каждого sku в заказе\n",
    "datamart = datamart.groupby(list(datamart.columns))['sku'].agg(items_cnt = 'count').reset_index()\n",
    "# считаем количество уникальных sku в заказе\n",
    "datamart['sku_cnt'] = datamart.groupby(['orderkey'])['sku'].transform('count')\n",
    "# считаем количество уникальных типов упаковок в заказе\n",
    "datamart['cartontypes_cnt'] = datamart.groupby(['orderkey'])['selected_cartontype'].transform(lambda x: len(set(x)))"
   ]
  },
  {
   "cell_type": "markdown",
   "metadata": {},
   "source": [
    "<div class=\"alert alert-warning\">\n",
    "<b>⚠️«Можно лучше»: </b><br>\n",
    "    - cтолбцы, которые вы сразу удаляете после загрузки можно было просто не загружать, если указать параметр <code>usecols</code> в pd.read_csv();<br>\n",
    "    - человеку, который видит ваш код и тетрадку впервые и не знаком с данными очень поможет, если вы будете показывать результат предобработки после каждого этапа простым вызовом .head().\n",
    "</div>"
   ]
  },
  {
   "cell_type": "code",
   "execution_count": 5,
   "metadata": {},
   "outputs": [
    {
     "data": {
      "text/html": [
       "<pre style=\"white-space:pre;overflow-x:auto;line-height:normal;font-family:Menlo,'DejaVu Sans Mono',consolas,'Courier New',monospace\"><span style=\"color: #008080; text-decoration-color: #008080; font-weight: bold\">5</span> column names have been cleaned\n",
       "</pre>\n"
      ],
      "text/plain": [
       "\u001b[1;36m5\u001b[0m column names have been cleaned\n"
      ]
     },
     "metadata": {},
     "output_type": "display_data"
    }
   ],
   "source": [
    "# таблица carton\n",
    "# приводим названия столбцов к змеиному регистру\n",
    "carton.columns = clean_columns(carton).columns\n",
    "# удаляем ненужные столбцы\n",
    "carton = carton.drop(['displayrfpack'], axis=1)"
   ]
  },
  {
   "cell_type": "code",
   "execution_count": 6,
   "metadata": {},
   "outputs": [],
   "source": [
    "# таблица cargotype_info\n",
    "# удаляем строки с пропущенными значениями\n",
    "cargotype_info = cargotype_info.dropna()\n",
    "# форматируем столбцы\n",
    "cargotype_info['cargotype'] = cargotype_info['cargotype'].astype(int)"
   ]
  },
  {
   "cell_type": "code",
   "execution_count": 7,
   "metadata": {
    "tags": []
   },
   "outputs": [],
   "source": [
    "# таблица sku_cargotypes\n",
    "# оставим только те sku, которые есть в data (чтобы быстрее обрабатывать)\n",
    "sku_cargotypes = sku_cargotypes.query('sku in @data[\"sku\"]')\n",
    "# сгруппируем по sku, а теги объединим в строку\n",
    "sku_cargotypes = sku_cargotypes.groupby(['sku'])['cargotype'].apply(list)\n",
    "sku_cargotypes = sku_cargotypes.apply(lambda x: \" \".join(map(str, x)))\n"
   ]
  },
  {
   "cell_type": "code",
   "execution_count": 8,
   "metadata": {},
   "outputs": [],
   "source": [
    "# добавляем к datamart линейные размеры товара (datamart left join sku on sku)\n",
    "datamart = datamart.merge(sku, how='inner', on='sku')\n",
    "# добавляем к data признаки тегов\n",
    "datamart = datamart.merge(sku_cargotypes, how='inner', on='sku')"
   ]
  },
  {
   "cell_type": "code",
   "execution_count": 9,
   "metadata": {},
   "outputs": [],
   "source": [
    "# мерджим тип упаковки с размерами и ценой\n",
    "carton_data = carton.merge(carton_price, how='left', on='cartontype')"
   ]
  },
  {
   "cell_type": "code",
   "execution_count": 10,
   "metadata": {},
   "outputs": [],
   "source": [
    "# мерджим инфо по упаковке к datamart\n",
    "datamart = datamart.merge(carton_data, how='left', left_on='selected_cartontype', right_on='cartontype').drop(['cartontype'], axis=1)\n",
    "datamart = datamart.merge(carton_data, how='left', left_on='recommended_cartontype', right_on='cartontype', suffixes=('_sel', '_rec')).drop(['cartontype'], axis=1)\n"
   ]
  },
  {
   "cell_type": "code",
   "execution_count": 11,
   "metadata": {},
   "outputs": [],
   "source": [
    "# Добавляем фичу объем\n",
    "datamart['volume'] = datamart['a'] * datamart['b'] * datamart['c']"
   ]
  },
  {
   "cell_type": "markdown",
   "metadata": {},
   "source": [
    "\n",
    "<div class=\"alert alert-success\">\n",
    "<b>✅«Отлично»:</b><br>\n",
    "    Очень уверенно манипулируете данными - подготовили классную общую таблицу, добавили новые фичи 👍\n",
    "</div>\n"
   ]
  },
  {
   "cell_type": "code",
   "execution_count": 12,
   "metadata": {},
   "outputs": [],
   "source": [
    "# определим целевые классы\n",
    "def target_classif(cartontype):\n",
    "    # пакеты\n",
    "    if cartontype in ['MYA', 'MYB', 'MYC', 'MYD', 'MYE']:\n",
    "        return 1\n",
    "    # коробки\n",
    "    elif cartontype in ['YMF', 'YME', 'YMA', 'YMW', 'YMG', 'YML', 'YMC', 'MYF', 'YMX', 'YMB']:\n",
    "        return 2\n",
    "    # без упаковки или стретч\n",
    "    elif cartontype in ['NONPACK', 'STRETCH']:\n",
    "        return 0\n",
    "    else:\n",
    "        return 0\n",
    "\n",
    "\n",
    "# зададим целевые классы\n",
    "datamart['y_target'] = datamart['selected_cartontype'].apply(target_classif)\n",
    "datamart['y_old_model'] = datamart['recommended_cartontype'].apply(target_classif)\n"
   ]
  },
  {
   "cell_type": "markdown",
   "metadata": {},
   "source": [
    "<div class=\"alert alert-block alert-danger\">\n",
    "<b>⛔️«Надо исправить»:</b><br>\n",
    "    Вы решаете очень обобщенную задачу, которая не соответствует задаче, сформулированной Заказчиком в <a href = \"https://prairie-parade-285.notion.site/95e473fb67e54aefa6e1c26cd7a8b0e1\">Техническом задании</a>: уменьшить время, которое Пользователь тратит на подбор упаковочного материала. Не думаю, что выбор пакет или коробка занимает много времени, скорее выбор <b>какой</b> пакет или <b>какая</b> коробка. Необходимо увеличить число классов и рекомендовать тару с учетом весогабаритных харакетристик товара.<br>\n",
    "    Однако, можно не отказываться от построенной вами модели и использовать ее для предварительной классификации заказов по обобщенному признаку - пакет/коробка/пленка и далее передавать классифицированный заказ спеицализированным моделям, которые отвечают на вопросы: <b>какой</b> пакет или <b>какая</b> коробка:)\n",
    "</div>"
   ]
  },
  {
   "cell_type": "code",
   "execution_count": 13,
   "metadata": {},
   "outputs": [],
   "source": [
    "# обновим таблицу с данными об упаковках для задачи оптимизации\n",
    "carton_data['y_target'] = carton_data['cartontype'].apply(target_classif)\n",
    "carton_data = carton_data[pd.isna(carton_data['y_target']) == False]\n",
    "carton_data = carton_data.fillna(0)"
   ]
  },
  {
   "cell_type": "code",
   "execution_count": 13,
   "metadata": {},
   "outputs": [],
   "source": [
    "# запишем данные об упаковках в отдельный csv файл\n",
    "# carton_data.to_csv('/home/ivan/projects/Hakaton_Yandex_marketplace/carton_data.csv')\n"
   ]
  },
  {
   "cell_type": "code",
   "execution_count": 14,
   "metadata": {},
   "outputs": [
    {
     "data": {
      "text/plain": [
       "0.5392833241583701"
      ]
     },
     "execution_count": 14,
     "metadata": {},
     "output_type": "execute_result"
    }
   ],
   "source": [
    "# посмотрим на f1_score старой модели\n",
    "f1_score(datamart['y_old_model'], datamart['y_target'], average='macro')"
   ]
  },
  {
   "cell_type": "markdown",
   "metadata": {},
   "source": [
    "\n",
    "<div class=\"alert alert-success\">\n",
    "<b>✅«Отлично»:</b><br>\n",
    "    Не хватает пояснений, но попробую догадаться - вы так определили baseline? 🧙 Окей, посмотрим получится ли его улучшить:)  Еще можно добавить матрицу ошибок и посмотреть где модель ошибается чаще.\n",
    "</div>\n"
   ]
  },
  {
   "cell_type": "code",
   "execution_count": 15,
   "metadata": {},
   "outputs": [],
   "source": [
    "# запакуем единую витрину в csv\n",
    "# datamart.head(100).to_csv('/home/ivan/projects/Hakaton_Yandex_marketplace/datasets_examples/datamart_example.csv')"
   ]
  },
  {
   "cell_type": "markdown",
   "metadata": {},
   "source": [
    "## Моделирование"
   ]
  },
  {
   "cell_type": "code",
   "execution_count": 15,
   "metadata": {},
   "outputs": [],
   "source": [
    "# готовим данные для модели\n",
    "# model_data = datamart[['orderkey', 'sku', 'items_cnt', 'a', 'b', 'c', 'volume', 'goods_wght', 'cargotype', 'y_target']]\n",
    "model_data = datamart[['orderkey', 'sku', 'items_cnt', 'a', 'b', 'c', 'goods_wght', 'cargotype', 'y_target']]\n",
    "# составим список уникальных заказов\n",
    "unique_orderkeys = pd.Series(model_data['orderkey'].unique())\n",
    "# поделим заказы на train, valid и test 60/20/20\n",
    "train_orderkeys, test_orderkeys = train_test_split(unique_orderkeys, test_size=0.2, random_state=123)\n",
    "\n",
    "\n",
    "# зададим функцию разделения данных на X и y\n",
    "def X_y_split(model_data, orders, y):\n",
    "    model_data_orders = model_data.query('orderkey in @orders')\n",
    "    model_data_orders_X = model_data_orders.drop([y, 'orderkey', 'sku'], axis=1).reset_index(drop=True)\n",
    "    model_data_orders_y = model_data_orders[y].reset_index(drop=True)\n",
    "    return model_data_orders_X, model_data_orders_y\n",
    "\n",
    "\n",
    "# используем функцию разделения данных\n",
    "train_X, train_y = X_y_split(model_data=model_data, orders=train_orderkeys, y='y_target')\n",
    "test_X, test_y = X_y_split(model_data=model_data, orders=test_orderkeys, y='y_target')\n"
   ]
  },
  {
   "cell_type": "markdown",
   "metadata": {},
   "source": [
    "<div class=\"alert alert-block alert-danger\">\n",
    "<b>⛔️«Надо исправить»:</b><br>\n",
    "    Как вы считаете, после дропа orderkey и sku - сколько дубликатов будет в наборе данных? Думаю много, значит - здесь может быть утечка данных: в тест могут попасть такие же данные как в трейне. Это нужно обязательно проконтролировать и предупредить.\n",
    "</div>"
   ]
  },
  {
   "cell_type": "markdown",
   "metadata": {},
   "source": [
    "<div class=\"alert alert-warning\">\n",
    "<b>⚠️«Можно лучше»: </b><br>\n",
    "    Вижу по закомментированным строкам, что экспериментировали с тем, какие признаки подавать в модель для обучения. Снова повторю, что ход своих мыслей лучше показывать☝️ Также добавлю, что выводы о том, какие признаки полезные, а какие нет, лучше делать опираясь на их интерпретацию с помощью значений feature_importance или инструментов бибилиотеки sklearn - <a href = \"https://scikit-learn.org/stable/modules/feature_selection.html\">Feature Selection</a>.\n",
    "</div>"
   ]
  },
  {
   "cell_type": "markdown",
   "metadata": {},
   "source": [
    "<div class=\"alert alert-warning\">\n",
    "<b>⚠️«Можно лучше»: </b><br>\n",
    "    В таблице после группировки по orderkey + sku каждая строка стала аналогом отдельного товара в заказе и вы соответственно предсказываете не набор упаковки для заказа, а упаковку для отдельного товара. Этап EDA отсутствует в вашей работе и если человек не знаком с данными, то он посчитает, что вы сильно упрощаете задачу. В базе 97% заказов состоит из одного SKU и вы можете побороться за оставшиеся 3%, если придумаете как построить признаки таким образом, чтобы строка ассоциировалась с заказом. Варианты как это сделать обсуждались на совместной встрече:)\n",
    "</div>"
   ]
  },
  {
   "cell_type": "code",
   "execution_count": 17,
   "metadata": {},
   "outputs": [],
   "source": [
    "# # сохраним примеры данных для входа в модель\n",
    "# model_in = model_data.drop(['y_target'], axis=1).head(1000)\n",
    "# model_in.to_csv('/home/ivan/projects/Hakaton_Yandex_marketplace/project_data/data_in.csv')"
   ]
  },
  {
   "cell_type": "code",
   "execution_count": 18,
   "metadata": {},
   "outputs": [],
   "source": [
    "# # сохраним примеры данных на выходе из модели (смоделированные)\n",
    "# model_out = copy.deepcopy(model_in)\n",
    "# model_out['class_0'] = np.random.choice([0, 0.1, 0.2, 0.3, 0.4, 0.5, 0.6, 0.7, 0.8, 0.9, 1.0], model_out.shape[0])\n",
    "# model_out['class_1'] = np.random.choice([0, 0.1, 0.2, 0.3, 0.4, 0.5, 0.6, 0.7, 0.8, 0.9, 1.0], model_out.shape[0])\n",
    "# model_out['class_2'] = np.random.choice([0, 0.1, 0.2, 0.3, 0.4, 0.5, 0.6, 0.7, 0.8, 0.9, 1.0], model_out.shape[0])\n",
    "\n",
    "# model_out['class_0'] = model_out['class_0'] / (model_out['class_0'] + model_out['class_1'] + model_out['class_2'])\n",
    "# model_out['class_1'] = model_out['class_1'] / (model_out['class_0'] + model_out['class_1'] + model_out['class_2'])\n",
    "# model_out['class_2'] = model_out['class_2'] / (model_out['class_0'] + model_out['class_1'] + model_out['class_2'])\n",
    "\n",
    "# model_out.to_csv('/home/ivan/projects/Hakaton_Yandex_marketplace/project_data/data_out.csv')"
   ]
  },
  {
   "cell_type": "code",
   "execution_count": 16,
   "metadata": {},
   "outputs": [],
   "source": [
    "# Создадим pipeline\n",
    "pipeline = make_pipeline()\n",
    "# векторизуем признак cargotype \n",
    "vectorizer = ColumnTransformer([(\"vectorizer\", TfidfVectorizer(min_df=10, max_df=1.0), 'cargotype')],remainder=\"passthrough\")\n",
    "pipeline.steps.append(('vectorizer', vectorizer))\n",
    "# добавим классификатор\n",
    "pipeline.steps.append(('clf', KNeighborsClassifier(n_jobs=-1, n_neighbors=15)))"
   ]
  },
  {
   "cell_type": "markdown",
   "metadata": {},
   "source": [
    "\n",
    "<div class=\"alert alert-success\">\n",
    "<b>✅«Отлично»:</b><br>\n",
    "    Интересное решение - векторизовать карготип:) Ограничили частоту - тоже хорошо, тем самым (возможно?) уменьшили словарь на выходе - это стоит проверить. <br>\n",
    "    Также хороший вариант - создать бинарный признак для каждого уникального значения cargotype, получится максимум 88 новых признаков на выходе. Это можно сделать с помощью pivot таблиц или использовать BOW вместо TF-IDF.\n",
    "</div>\n"
   ]
  },
  {
   "cell_type": "markdown",
   "metadata": {},
   "source": [
    "<div class=\"alert alert-warning\">\n",
    "<b>⚠️«Можно лучше»: </b><br>\n",
    "    Параметр n_jobs=-1 можно также указать для ColumnTransformer и тогда он будет работать быстрее и использовать ресурсы эффективнее.\n",
    "</div>"
   ]
  },
  {
   "cell_type": "code",
   "execution_count": 17,
   "metadata": {},
   "outputs": [
    {
     "data": {
      "text/html": [
       "<div>\n",
       "<style scoped>\n",
       "    .dataframe tbody tr th:only-of-type {\n",
       "        vertical-align: middle;\n",
       "    }\n",
       "\n",
       "    .dataframe tbody tr th {\n",
       "        vertical-align: top;\n",
       "    }\n",
       "\n",
       "    .dataframe thead th {\n",
       "        text-align: right;\n",
       "    }\n",
       "</style>\n",
       "<table border=\"1\" class=\"dataframe\">\n",
       "  <thead>\n",
       "    <tr style=\"text-align: right;\">\n",
       "      <th></th>\n",
       "      <th>items_cnt</th>\n",
       "      <th>a</th>\n",
       "      <th>b</th>\n",
       "      <th>c</th>\n",
       "      <th>goods_wght</th>\n",
       "      <th>cargotype</th>\n",
       "    </tr>\n",
       "  </thead>\n",
       "  <tbody>\n",
       "    <tr>\n",
       "      <th>0</th>\n",
       "      <td>1</td>\n",
       "      <td>17.0</td>\n",
       "      <td>38.0</td>\n",
       "      <td>6.0</td>\n",
       "      <td>1.00</td>\n",
       "      <td>290 410 750 780</td>\n",
       "    </tr>\n",
       "    <tr>\n",
       "      <th>1</th>\n",
       "      <td>2</td>\n",
       "      <td>17.0</td>\n",
       "      <td>38.0</td>\n",
       "      <td>6.0</td>\n",
       "      <td>1.00</td>\n",
       "      <td>290 410 750 780</td>\n",
       "    </tr>\n",
       "    <tr>\n",
       "      <th>2</th>\n",
       "      <td>3</td>\n",
       "      <td>25.0</td>\n",
       "      <td>7.0</td>\n",
       "      <td>17.0</td>\n",
       "      <td>0.09</td>\n",
       "      <td>290 340 410 720 750 780</td>\n",
       "    </tr>\n",
       "    <tr>\n",
       "      <th>3</th>\n",
       "      <td>2</td>\n",
       "      <td>25.0</td>\n",
       "      <td>7.0</td>\n",
       "      <td>17.0</td>\n",
       "      <td>0.09</td>\n",
       "      <td>290 340 410 720 750 780</td>\n",
       "    </tr>\n",
       "    <tr>\n",
       "      <th>4</th>\n",
       "      <td>2</td>\n",
       "      <td>25.0</td>\n",
       "      <td>7.0</td>\n",
       "      <td>17.0</td>\n",
       "      <td>0.09</td>\n",
       "      <td>290 340 410 720 750 780</td>\n",
       "    </tr>\n",
       "  </tbody>\n",
       "</table>\n",
       "</div>"
      ],
      "text/plain": [
       "   items_cnt     a     b     c  goods_wght                cargotype\n",
       "0          1  17.0  38.0   6.0        1.00          290 410 750 780\n",
       "1          2  17.0  38.0   6.0        1.00          290 410 750 780\n",
       "2          3  25.0   7.0  17.0        0.09  290 340 410 720 750 780\n",
       "3          2  25.0   7.0  17.0        0.09  290 340 410 720 750 780\n",
       "4          2  25.0   7.0  17.0        0.09  290 340 410 720 750 780"
      ]
     },
     "execution_count": 17,
     "metadata": {},
     "output_type": "execute_result"
    }
   ],
   "source": [
    "# формат данных на въод модели\n",
    "train_X.head()"
   ]
  },
  {
   "cell_type": "code",
   "execution_count": 18,
   "metadata": {},
   "outputs": [
    {
     "data": {
      "text/html": [
       "<style>#sk-container-id-1 {color: black;background-color: white;}#sk-container-id-1 pre{padding: 0;}#sk-container-id-1 div.sk-toggleable {background-color: white;}#sk-container-id-1 label.sk-toggleable__label {cursor: pointer;display: block;width: 100%;margin-bottom: 0;padding: 0.3em;box-sizing: border-box;text-align: center;}#sk-container-id-1 label.sk-toggleable__label-arrow:before {content: \"▸\";float: left;margin-right: 0.25em;color: #696969;}#sk-container-id-1 label.sk-toggleable__label-arrow:hover:before {color: black;}#sk-container-id-1 div.sk-estimator:hover label.sk-toggleable__label-arrow:before {color: black;}#sk-container-id-1 div.sk-toggleable__content {max-height: 0;max-width: 0;overflow: hidden;text-align: left;background-color: #f0f8ff;}#sk-container-id-1 div.sk-toggleable__content pre {margin: 0.2em;color: black;border-radius: 0.25em;background-color: #f0f8ff;}#sk-container-id-1 input.sk-toggleable__control:checked~div.sk-toggleable__content {max-height: 200px;max-width: 100%;overflow: auto;}#sk-container-id-1 input.sk-toggleable__control:checked~label.sk-toggleable__label-arrow:before {content: \"▾\";}#sk-container-id-1 div.sk-estimator input.sk-toggleable__control:checked~label.sk-toggleable__label {background-color: #d4ebff;}#sk-container-id-1 div.sk-label input.sk-toggleable__control:checked~label.sk-toggleable__label {background-color: #d4ebff;}#sk-container-id-1 input.sk-hidden--visually {border: 0;clip: rect(1px 1px 1px 1px);clip: rect(1px, 1px, 1px, 1px);height: 1px;margin: -1px;overflow: hidden;padding: 0;position: absolute;width: 1px;}#sk-container-id-1 div.sk-estimator {font-family: monospace;background-color: #f0f8ff;border: 1px dotted black;border-radius: 0.25em;box-sizing: border-box;margin-bottom: 0.5em;}#sk-container-id-1 div.sk-estimator:hover {background-color: #d4ebff;}#sk-container-id-1 div.sk-parallel-item::after {content: \"\";width: 100%;border-bottom: 1px solid gray;flex-grow: 1;}#sk-container-id-1 div.sk-label:hover label.sk-toggleable__label {background-color: #d4ebff;}#sk-container-id-1 div.sk-serial::before {content: \"\";position: absolute;border-left: 1px solid gray;box-sizing: border-box;top: 0;bottom: 0;left: 50%;z-index: 0;}#sk-container-id-1 div.sk-serial {display: flex;flex-direction: column;align-items: center;background-color: white;padding-right: 0.2em;padding-left: 0.2em;position: relative;}#sk-container-id-1 div.sk-item {position: relative;z-index: 1;}#sk-container-id-1 div.sk-parallel {display: flex;align-items: stretch;justify-content: center;background-color: white;position: relative;}#sk-container-id-1 div.sk-item::before, #sk-container-id-1 div.sk-parallel-item::before {content: \"\";position: absolute;border-left: 1px solid gray;box-sizing: border-box;top: 0;bottom: 0;left: 50%;z-index: -1;}#sk-container-id-1 div.sk-parallel-item {display: flex;flex-direction: column;z-index: 1;position: relative;background-color: white;}#sk-container-id-1 div.sk-parallel-item:first-child::after {align-self: flex-end;width: 50%;}#sk-container-id-1 div.sk-parallel-item:last-child::after {align-self: flex-start;width: 50%;}#sk-container-id-1 div.sk-parallel-item:only-child::after {width: 0;}#sk-container-id-1 div.sk-dashed-wrapped {border: 1px dashed gray;margin: 0 0.4em 0.5em 0.4em;box-sizing: border-box;padding-bottom: 0.4em;background-color: white;}#sk-container-id-1 div.sk-label label {font-family: monospace;font-weight: bold;display: inline-block;line-height: 1.2em;}#sk-container-id-1 div.sk-label-container {text-align: center;}#sk-container-id-1 div.sk-container {/* jupyter's `normalize.less` sets `[hidden] { display: none; }` but bootstrap.min.css set `[hidden] { display: none !important; }` so we also need the `!important` here to be able to override the default hidden behavior on the sphinx rendered scikit-learn.org. See: https://github.com/scikit-learn/scikit-learn/issues/21755 */display: inline-block !important;position: relative;}#sk-container-id-1 div.sk-text-repr-fallback {display: none;}</style><div id=\"sk-container-id-1\" class=\"sk-top-container\"><div class=\"sk-text-repr-fallback\"><pre>Pipeline(steps=[(&#x27;vectorizer&#x27;,\n",
       "                 ColumnTransformer(remainder=&#x27;passthrough&#x27;,\n",
       "                                   transformers=[(&#x27;vectorizer&#x27;,\n",
       "                                                  TfidfVectorizer(min_df=10),\n",
       "                                                  &#x27;cargotype&#x27;)])),\n",
       "                (&#x27;clf&#x27;, KNeighborsClassifier(n_jobs=-1, n_neighbors=15))])</pre><b>In a Jupyter environment, please rerun this cell to show the HTML representation or trust the notebook. <br />On GitHub, the HTML representation is unable to render, please try loading this page with nbviewer.org.</b></div><div class=\"sk-container\" hidden><div class=\"sk-item sk-dashed-wrapped\"><div class=\"sk-label-container\"><div class=\"sk-label sk-toggleable\"><input class=\"sk-toggleable__control sk-hidden--visually\" id=\"sk-estimator-id-1\" type=\"checkbox\" ><label for=\"sk-estimator-id-1\" class=\"sk-toggleable__label sk-toggleable__label-arrow\">Pipeline</label><div class=\"sk-toggleable__content\"><pre>Pipeline(steps=[(&#x27;vectorizer&#x27;,\n",
       "                 ColumnTransformer(remainder=&#x27;passthrough&#x27;,\n",
       "                                   transformers=[(&#x27;vectorizer&#x27;,\n",
       "                                                  TfidfVectorizer(min_df=10),\n",
       "                                                  &#x27;cargotype&#x27;)])),\n",
       "                (&#x27;clf&#x27;, KNeighborsClassifier(n_jobs=-1, n_neighbors=15))])</pre></div></div></div><div class=\"sk-serial\"><div class=\"sk-item sk-dashed-wrapped\"><div class=\"sk-label-container\"><div class=\"sk-label sk-toggleable\"><input class=\"sk-toggleable__control sk-hidden--visually\" id=\"sk-estimator-id-2\" type=\"checkbox\" ><label for=\"sk-estimator-id-2\" class=\"sk-toggleable__label sk-toggleable__label-arrow\">vectorizer: ColumnTransformer</label><div class=\"sk-toggleable__content\"><pre>ColumnTransformer(remainder=&#x27;passthrough&#x27;,\n",
       "                  transformers=[(&#x27;vectorizer&#x27;, TfidfVectorizer(min_df=10),\n",
       "                                 &#x27;cargotype&#x27;)])</pre></div></div></div><div class=\"sk-parallel\"><div class=\"sk-parallel-item\"><div class=\"sk-item\"><div class=\"sk-label-container\"><div class=\"sk-label sk-toggleable\"><input class=\"sk-toggleable__control sk-hidden--visually\" id=\"sk-estimator-id-3\" type=\"checkbox\" ><label for=\"sk-estimator-id-3\" class=\"sk-toggleable__label sk-toggleable__label-arrow\">vectorizer</label><div class=\"sk-toggleable__content\"><pre>cargotype</pre></div></div></div><div class=\"sk-serial\"><div class=\"sk-item\"><div class=\"sk-estimator sk-toggleable\"><input class=\"sk-toggleable__control sk-hidden--visually\" id=\"sk-estimator-id-4\" type=\"checkbox\" ><label for=\"sk-estimator-id-4\" class=\"sk-toggleable__label sk-toggleable__label-arrow\">TfidfVectorizer</label><div class=\"sk-toggleable__content\"><pre>TfidfVectorizer(min_df=10)</pre></div></div></div></div></div></div><div class=\"sk-parallel-item\"><div class=\"sk-item\"><div class=\"sk-label-container\"><div class=\"sk-label sk-toggleable\"><input class=\"sk-toggleable__control sk-hidden--visually\" id=\"sk-estimator-id-5\" type=\"checkbox\" ><label for=\"sk-estimator-id-5\" class=\"sk-toggleable__label sk-toggleable__label-arrow\">remainder</label><div class=\"sk-toggleable__content\"><pre>[&#x27;items_cnt&#x27;, &#x27;a&#x27;, &#x27;b&#x27;, &#x27;c&#x27;, &#x27;goods_wght&#x27;]</pre></div></div></div><div class=\"sk-serial\"><div class=\"sk-item\"><div class=\"sk-estimator sk-toggleable\"><input class=\"sk-toggleable__control sk-hidden--visually\" id=\"sk-estimator-id-6\" type=\"checkbox\" ><label for=\"sk-estimator-id-6\" class=\"sk-toggleable__label sk-toggleable__label-arrow\">passthrough</label><div class=\"sk-toggleable__content\"><pre>passthrough</pre></div></div></div></div></div></div></div></div><div class=\"sk-item\"><div class=\"sk-estimator sk-toggleable\"><input class=\"sk-toggleable__control sk-hidden--visually\" id=\"sk-estimator-id-7\" type=\"checkbox\" ><label for=\"sk-estimator-id-7\" class=\"sk-toggleable__label sk-toggleable__label-arrow\">KNeighborsClassifier</label><div class=\"sk-toggleable__content\"><pre>KNeighborsClassifier(n_jobs=-1, n_neighbors=15)</pre></div></div></div></div></div></div></div>"
      ],
      "text/plain": [
       "Pipeline(steps=[('vectorizer',\n",
       "                 ColumnTransformer(remainder='passthrough',\n",
       "                                   transformers=[('vectorizer',\n",
       "                                                  TfidfVectorizer(min_df=10),\n",
       "                                                  'cargotype')])),\n",
       "                ('clf', KNeighborsClassifier(n_jobs=-1, n_neighbors=15))])"
      ]
     },
     "execution_count": 18,
     "metadata": {},
     "output_type": "execute_result"
    }
   ],
   "source": [
    "# обучим модель\n",
    "pipeline.fit(train_X, train_y)"
   ]
  },
  {
   "cell_type": "code",
   "execution_count": 19,
   "metadata": {},
   "outputs": [
    {
     "data": {
      "text/plain": [
       "['knn_model.joblib']"
      ]
     },
     "execution_count": 19,
     "metadata": {},
     "output_type": "execute_result"
    }
   ],
   "source": [
    "# сохраним модель\n",
    "import joblib\n",
    "joblib.dump(pipeline, \"knn_model.joblib\")"
   ]
  },
  {
   "cell_type": "code",
   "execution_count": 23,
   "metadata": {},
   "outputs": [
    {
     "data": {
      "text/plain": [
       "0.6747875981635253"
      ]
     },
     "execution_count": 23,
     "metadata": {},
     "output_type": "execute_result"
    }
   ],
   "source": [
    "# посмотрим на f1_score новой модели\n",
    "f1_score(pipeline.predict(test_X), test_y, average='macro')"
   ]
  },
  {
   "cell_type": "markdown",
   "metadata": {},
   "source": [
    "\n",
    "<div class=\"alert alert-success\">\n",
    "<b>✅«Отлично»:</b><br>\n",
    "    Baseline побит! Поздравляю! Время помучить гиперпараметры: счастье не в соседях, а в их количестве:) А может и попробовать другие модели?\n",
    "</div>\n"
   ]
  },
  {
   "cell_type": "markdown",
   "metadata": {},
   "source": [
    "<div style=\"border:solid Chocolate 2px; padding: 40px\">\n",
    "Спасибо за ваш проект! Получилось интересно и есть над чем поработать:)\n",
    "\n",
    "<b>Положительные моменты проекта</b>:\n",
    "    <ol>\n",
    "        <li>Хорошо и уверенно работаете с несколькими таблицами, подготовили хорошую основную таблицу;</li>\n",
    "        <li>Интересное решение с векторизацией карготипов;</li>\n",
    "        <li>Проверили адекватность модели с помощью baseline.</li>\n",
    "    </ol>\n",
    "\n",
    "<b>Что необходимо исправить</b>:\n",
    "    <ol>\n",
    "        <li>Не выполнен этап EDA, очень мало пояснений и нет никакой визуализации - все таки это исследование;)</li>\n",
    "        <li>Задачу классификации слишком обобщили и тем самым упростили - требования ТЗ не выполнены;</li>\n",
    "        <li>Данные для обучения и тестирования нужно проверить на предмет утечек из-за дублей;</li>\n",
    "        <li>Для ревью не предоставлен Docker-контейнер.</li>\n",
    "    </ol>   \n",
    "    \n",
    "<b>На что еще стоит обратить внимание</b>:\n",
    "    <ol>\n",
    "        <li>Пожалейте того, кто не знаком с данными и видит вашу работу впервые - показывайте с чем работаете;</li>\n",
    "        <li>Этап предобработки лучше оформить в Pipeline.</li>\n",
    "    </ol>\n",
    "\n",
    "    Желаю удачи и побед в соревнованиях!😉\n",
    "</div>"
   ]
  }
 ],
 "metadata": {
  "kernelspec": {
   "display_name": "Python 3 (ipykernel)",
   "language": "python",
   "name": "python3"
  },
  "language_info": {
   "codemirror_mode": {
    "name": "ipython",
    "version": 3
   },
   "file_extension": ".py",
   "mimetype": "text/x-python",
   "name": "python",
   "nbconvert_exporter": "python",
   "pygments_lexer": "ipython3",
   "version": "3.9.16"
  }
 },
 "nbformat": 4,
 "nbformat_minor": 4
}
